{
 "cells": [
  {
   "cell_type": "code",
   "execution_count": 1,
   "metadata": {},
   "outputs": [],
   "source": [
    "system\"l util.q\""
   ]
  },
  {
   "cell_type": "code",
   "execution_count": 35,
   "metadata": {},
   "outputs": [],
   "source": [
    "system\"l game.q\""
   ]
  },
  {
   "cell_type": "code",
   "execution_count": 36,
   "metadata": {},
   "outputs": [
    {
     "data": {
      "text/plain": [
       "[b] [ ] [b] [ ] [b] [ ] [b] [ ]\n",
       "[ ] [b] [ ] [b] [ ] [b] [ ] [b]\n",
       "[b] [ ] [b] [ ] [b] [ ] [b] [ ]\n",
       "[ ] [ ] [ ] [ ] [ ] [ ] [ ] [ ]\n",
       "[ ] [ ] [ ] [ ] [ ] [ ] [ ] [ ]\n",
       "[ ] [w] [ ] [w] [ ] [w] [ ] [w]\n",
       "[w] [ ] [w] [ ] [w] [ ] [w] [ ]\n",
       "[ ] [w] [ ] [w] [ ] [w] [ ] [w]\n"
      ]
     },
     "execution_count": 36,
     "metadata": {},
     "output_type": "execute_result"
    }
   ],
   "source": [
    ".game.grid"
   ]
  },
  {
   "cell_type": "code",
   "execution_count": 37,
   "metadata": {},
   "outputs": [
    {
     "name": "stdout",
     "output_type": "stream",
     "text": [
      "[b] [ ] [b] [ ] [b] [ ] [b] [ ]\n",
      "[ ] [b] [ ] [b] [ ] [b] [ ] [b]\n",
      "[b] [ ] [b] [ ] [b] [ ] [b] [ ]\n",
      "[ ] [ ] [ ] [ ] [ ] [ ] [ ] [ ]\n",
      "[ ] [ ] [w] [ ] [ ] [ ] [ ] [ ]\n",
      "[ ] [ ] [ ] [w] [ ] [w] [ ] [w]\n",
      "[w] [ ] [w] [ ] [w] [ ] [w] [ ]\n",
      "[ ] [w] [ ] [w] [ ] [w] [ ] [w]\n"
     ]
    }
   ],
   "source": [
    ".game.move[`w;(5;1);`r]"
   ]
  },
  {
   "cell_type": "code",
   "execution_count": 38,
   "metadata": {},
   "outputs": [
    {
     "name": "stdout",
     "output_type": "stream",
     "text": [
      "[b] [ ] [b] [ ] [b] [ ] [b] [ ]\n",
      "[ ] [b] [ ] [b] [ ] [b] [ ] [b]\n",
      "[b] [ ] [b] [ ] [b] [ ] [b] [ ]\n",
      "[ ] [ ] [ ] [ ] [ ] [ ] [ ] [ ]\n",
      "[ ] [ ] [w] [ ] [ ] [ ] [ ] [ ]\n",
      "[ ] [ ] [ ] [w] [ ] [w] [ ] [w]\n",
      "[w] [ ] [w] [ ] [w] [ ] [w] [ ]\n",
      "[ ] [w] [ ] [w] [ ] [w] [ ] [w]\n"
     ]
    }
   ],
   "source": [
    ".game.move[`w;(5;3);`l]"
   ]
  },
  {
   "cell_type": "code",
   "execution_count": 41,
   "metadata": {},
   "outputs": [
    {
     "data": {
      "text/plain": [
       "[w] [ ] [w] [ ] [w] [ ] [w] [ ]\n",
       "[ ] [w] [ ] [w] [ ] [w] [ ] [w]\n",
       "[w] [ ] [w] [ ] [w] [ ] [ ] [ ]\n",
       "[ ] [ ] [ ] [ ] [ ] [w] [ ] [ ]\n",
       "[ ] [ ] [b] [ ] [ ] [ ] [ ] [ ]\n",
       "[ ] [b] [ ] [ ] [ ] [b] [ ] [b]\n",
       "[b] [ ] [b] [ ] [b] [ ] [b] [ ]\n",
       "[ ] [b] [ ] [b] [ ] [b] [ ] [b]\n"
      ]
     },
     "execution_count": 41,
     "metadata": {},
     "output_type": "execute_result"
    }
   ],
   "source": [
    ".util.rotateGrid .game.grid"
   ]
  },
  {
   "cell_type": "code",
   "execution_count": 40,
   "metadata": {},
   "outputs": [
    {
     "name": "stdout",
     "output_type": "stream",
     "text": [
      "[b] [ ] [b] [ ] [b] [ ] [b] [ ]\n",
      "[ ] [b] [ ] [b] [ ] [b] [ ] [b]\n",
      "[b] [ ] [b] [ ] [ ] [ ] [b] [ ]\n",
      "[ ] [ ] [ ] [ ] [ ] [b] [ ] [ ]\n",
      "[ ] [ ] [w] [ ] [ ] [ ] [ ] [ ]\n",
      "[ ] [ ] [ ] [w] [ ] [w] [ ] [w]\n",
      "[w] [ ] [w] [ ] [w] [ ] [w] [ ]\n",
      "[ ] [w] [ ] [w] [ ] [w] [ ] [w]\n"
     ]
    }
   ],
   "source": [
    ".game.move[`b;(5;3);`l]"
   ]
  },
  {
   "cell_type": "code",
   "execution_count": null,
   "metadata": {},
   "outputs": [],
   "source": []
  },
  {
   "cell_type": "code",
   "execution_count": null,
   "metadata": {},
   "outputs": [],
   "source": []
  },
  {
   "cell_type": "code",
   "execution_count": null,
   "metadata": {},
   "outputs": [],
   "source": []
  },
  {
   "cell_type": "code",
   "execution_count": 60,
   "metadata": {},
   "outputs": [
    {
     "data": {
      "text/plain": [
       "`l\n"
      ]
     },
     "execution_count": 60,
     "metadata": {},
     "output_type": "execute_result"
    }
   ],
   "source": [
    "`l`r 0b"
   ]
  },
  {
   "cell_type": "code",
   "execution_count": 61,
   "metadata": {},
   "outputs": [
    {
     "data": {
      "text/plain": [
       "00b\n"
      ]
     },
     "execution_count": 61,
     "metadata": {},
     "output_type": "execute_result"
    }
   ],
   "source": [
    "(`l=`r),not 1b"
   ]
  },
  {
   "cell_type": "code",
   "execution_count": null,
   "metadata": {},
   "outputs": [],
   "source": []
  }
 ],
 "metadata": {
  "kernelspec": {
   "display_name": "Q (kdb+)",
   "language": "q",
   "name": "qpk"
  },
  "language_info": {
   "file_extension": ".q",
   "mimetype": "text/x-q",
   "name": "q",
   "version": "4.0"
  }
 },
 "nbformat": 4,
 "nbformat_minor": 4
}
