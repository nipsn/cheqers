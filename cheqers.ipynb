{
 "cells": [
  {
   "cell_type": "code",
   "execution_count": 7,
   "metadata": {},
   "outputs": [],
   "source": [
    "system\"l util.q\""
   ]
  },
  {
   "cell_type": "code",
   "execution_count": 88,
   "metadata": {},
   "outputs": [],
   "source": [
    "system\"l game.q\""
   ]
  },
  {
   "cell_type": "code",
   "execution_count": 89,
   "metadata": {},
   "outputs": [
    {
     "data": {
      "text/plain": [
       "[b] [ ] [b] [ ] [b] [ ] [b] [ ]\n",
       "[ ] [b] [ ] [b] [ ] [b] [ ] [b]\n",
       "[b] [ ] [b] [ ] [b] [ ] [b] [ ]\n",
       "[ ] [ ] [ ] [ ] [ ] [ ] [ ] [ ]\n",
       "[ ] [ ] [ ] [ ] [ ] [ ] [ ] [ ]\n",
       "[ ] [w] [ ] [w] [ ] [w] [ ] [w]\n",
       "[w] [ ] [w] [ ] [w] [ ] [w] [ ]\n",
       "[ ] [w] [ ] [w] [ ] [w] [ ] [w]\n"
      ]
     },
     "execution_count": 89,
     "metadata": {},
     "output_type": "execute_result"
    }
   ],
   "source": [
    ".game.grid"
   ]
  },
  {
   "cell_type": "code",
   "execution_count": 90,
   "metadata": {},
   "outputs": [
    {
     "name": "stdout",
     "output_type": "stream",
     "text": [
      "[b] [ ] [b] [ ] [b] [ ] [b] [ ]\n",
      "[ ] [b] [ ] [b] [ ] [b] [ ] [b]\n",
      "[b] [ ] [b] [ ] [b] [ ] [b] [ ]\n",
      "[ ] [ ] [ ] [ ] [ ] [ ] [ ] [ ]\n",
      "[ ] [ ] [w] [ ] [ ] [ ] [ ] [ ]\n",
      "[ ] [ ] [ ] [w] [ ] [w] [ ] [w]\n",
      "[w] [ ] [w] [ ] [w] [ ] [w] [ ]\n",
      "[ ] [w] [ ] [w] [ ] [w] [ ] [w]\n"
     ]
    },
    {
     "data": {
      "text/plain": [
       "1b\n"
      ]
     },
     "execution_count": 90,
     "metadata": {},
     "output_type": "execute_result"
    }
   ],
   "source": [
    ".game.move[`w;(5;1);`r]"
   ]
  },
  {
   "cell_type": "code",
   "execution_count": 92,
   "metadata": {},
   "outputs": [
    {
     "ename": "\u001b[0;31mlr must be either `l or `r\u001b[0m",
     "evalue": "\u001b[0;31mlr must be either `l or `r\u001b[0m",
     "output_type": "error",
     "traceback": [
      "\u001b[0;31mevaluation error:\n\u001b[0m",
      "\u001b[0;31mlr must be either `l or `r\u001b[0m",
      "\u001b[0;31m\u001b[0m",
      "\u001b[0;31m  [1]  /home/oscar/cheqers/game.q:49: .game.move:\n    if[not type[lr]=-11h; '\"lr must be an atom\"];\n    if[not lr in `l`r; '\"lr must be either `l or `r\"];\n                       ^\n    povGrid:$[bw=`b;.util.rotateGrid grid;grid];        / rotate if bw=`b\n\u001b[0m",
      "\u001b[0;31m  [0]  .game.move[`w;(5;7);`k]\n       ^\n\u001b[0m"
     ]
    }
   ],
   "source": [
    ".game.move[`w;(5;7);`k]"
   ]
  },
  {
   "cell_type": "code",
   "execution_count": 72,
   "metadata": {},
   "outputs": [
    {
     "name": "stderr",
     "output_type": "stream",
     "text": [
      "not a valid move\n"
     ]
    },
    {
     "name": "stdout",
     "output_type": "stream",
     "text": [
      "[b] [ ] [b] [ ] [b] [ ] [b] [ ]\n",
      "[ ] [b] [ ] [b] [ ] [b] [ ] [b]\n",
      "[b] [ ] [b] [ ] [b] [ ] [b] [ ]\n",
      "[ ] [ ] [ ] [ ] [ ] [ ] [ ] [ ]\n",
      "[ ] [ ] [w] [ ] [ ] [ ] [ ] [ ]\n",
      "[ ] [ ] [ ] [w] [ ] [w] [ ] [w]\n",
      "[w] [ ] [w] [ ] [w] [ ] [w] [ ]\n",
      "[ ] [w] [ ] [w] [ ] [w] [ ] [w]\n"
     ]
    },
    {
     "data": {
      "text/plain": [
       "0b\n"
      ]
     },
     "execution_count": 72,
     "metadata": {},
     "output_type": "execute_result"
    }
   ],
   "source": [
    ".game.move[`w;(5;3);`l]"
   ]
  },
  {
   "cell_type": "code",
   "execution_count": 74,
   "metadata": {},
   "outputs": [
    {
     "name": "stdout",
     "output_type": "stream",
     "text": [
      "[w] [ ] [w] [ ] [w] [ ] [w] [ ]\n",
      "[ ] [w] [ ] [w] [ ] [w] [ ] [w]\n",
      "[w] [ ] [w] [ ] [w] [ ] [ ] [ ]\n",
      "[ ] [ ] [ ] [ ] [ ] [w] [ ] [ ]\n",
      "[ ] [ ] [b] [ ] [ ] [ ] [ ] [ ]\n",
      "[ ] [b] [ ] [ ] [ ] [b] [ ] [b]\n",
      "[b] [ ] [b] [ ] [b] [ ] [b] [ ]\n",
      "[ ] [b] [ ] [b] [ ] [b] [ ] [b]\n"
     ]
    },
    {
     "data": {
      "text/plain": [
       "1b\n"
      ]
     },
     "execution_count": 74,
     "metadata": {},
     "output_type": "execute_result"
    }
   ],
   "source": [
    ".game.move[`b;(5;3);`l]"
   ]
  },
  {
   "cell_type": "code",
   "execution_count": null,
   "metadata": {},
   "outputs": [],
   "source": []
  },
  {
   "cell_type": "code",
   "execution_count": 96,
   "metadata": {},
   "outputs": [
    {
     "data": {
      "text/plain": [
       "2023.07.11D15:09:52.955629500\n"
      ]
     },
     "execution_count": 96,
     "metadata": {},
     "output_type": "execute_result"
    }
   ],
   "source": [
    ".z.P"
   ]
  },
  {
   "cell_type": "code",
   "execution_count": 121,
   "metadata": {},
   "outputs": [
    {
     "data": {
      "text/plain": [
       "ts| v1                                             v2       \n",
       "--| --------------------------------------------------------\n",
       "0 | 6.091539 3.813679 4.194691  2.180873 5.075745  0 9 9 8 0\n",
       "5 | 9.830794 7.543122 0.3112646 3.667275 0.1920741 1 1 6 4 9\n",
       "10| 8.158957 7.959531 0.6541696 6.369711 4.176994  9 8 0 5 4\n",
       "15| 9.516746 1.169475 1.862869  5.165234 5.97383   3 8 7 3 4\n"
      ]
     },
     "execution_count": 121,
     "metadata": {},
     "output_type": "execute_result"
    }
   ],
   "source": [
    "t:([]ts:20?.z.P;v1:20?10.0;v2:20?10)\n",
    "\n",
    "select v1,v2 by 5 xbar rank ts from t"
   ]
  },
  {
   "cell_type": "code",
   "execution_count": 169,
   "metadata": {},
   "outputs": [],
   "source": [
    "sw:{(x-1) _{1_x,y}\\[x#0;y]}"
   ]
  },
  {
   "cell_type": "code",
   "execution_count": 171,
   "metadata": {},
   "outputs": [],
   "source": [
    "groups:sw[3;ts]"
   ]
  },
  {
   "cell_type": "code",
   "execution_count": 172,
   "metadata": {},
   "outputs": [
    {
     "data": {
      "text/plain": [
       "2020.05.19D18:21:12.870117760 2012.06.03D21:07:00.224608896 2001.07.12D01:57:..\n",
       "2012.06.03D21:07:00.224608896 2001.07.12D01:57:36.981533656 2002.09.30D09:48:..\n",
       "2001.07.12D01:57:36.981533656 2002.09.30D09:48:26.336392880 2012.11.08D15:17:..\n",
       "2002.09.30D09:48:26.336392880 2012.11.08D15:17:42.764611968 2006.01.17D04:19:..\n",
       "2012.11.08D15:17:42.764611968 2006.01.17D04:19:48.537061248 2008.04.20D19:58:..\n",
       "2006.01.17D04:19:48.537061248 2008.04.20D19:58:18.898855168 2009.03.25D02:45:..\n",
       "2008.04.20D19:58:18.898855168 2009.03.25D02:45:17.228956672 2019.07.12D12:41:..\n",
       "2009.03.25D02:45:17.228956672 2019.07.12D12:41:02.285044736 2019.03.08D11:24:..\n"
      ]
     },
     "execution_count": 172,
     "metadata": {},
     "output_type": "execute_result"
    }
   ],
   "source": [
    "groups"
   ]
  },
  {
   "cell_type": "code",
   "execution_count": 170,
   "metadata": {},
   "outputs": [
    {
     "data": {
      "text/plain": [
       "0 1 2\n",
       "1 2 3\n",
       "2 3 4\n",
       "3 4 5\n",
       "4 5 6\n",
       "5 6 7\n",
       "6 7 8\n",
       "7 8 9\n"
      ]
     },
     "execution_count": 170,
     "metadata": {},
     "output_type": "execute_result"
    }
   ],
   "source": [
    "sw[3;til 10]"
   ]
  },
  {
   "cell_type": "code",
   "execution_count": 81,
   "metadata": {},
   "outputs": [],
   "source": [
    "f:{[x;y]show .Q.opt .z.x}"
   ]
  },
  {
   "cell_type": "code",
   "execution_count": 82,
   "metadata": {},
   "outputs": [],
   "source": [
    "f[1;2]"
   ]
  },
  {
   "cell_type": "code",
   "execution_count": 83,
   "metadata": {},
   "outputs": [
    {
     "data": {
      "text/plain": [
       "-11h\n"
      ]
     },
     "execution_count": 83,
     "metadata": {},
     "output_type": "execute_result"
    }
   ],
   "source": [
    "type `a"
   ]
  },
  {
   "cell_type": "code",
   "execution_count": 84,
   "metadata": {},
   "outputs": [
    {
     "data": {
      "text/plain": [
       "7h\n"
      ]
     },
     "execution_count": 84,
     "metadata": {},
     "output_type": "execute_result"
    }
   ],
   "source": [
    "type(11;23)"
   ]
  },
  {
   "cell_type": "code",
   "execution_count": null,
   "metadata": {},
   "outputs": [],
   "source": [
    "0 98h"
   ]
  }
 ],
 "metadata": {
  "kernelspec": {
   "display_name": "Q (kdb+)",
   "language": "q",
   "name": "qpk"
  },
  "language_info": {
   "file_extension": ".q",
   "mimetype": "text/x-q",
   "name": "q",
   "version": "4.0"
  }
 },
 "nbformat": 4,
 "nbformat_minor": 4
}
